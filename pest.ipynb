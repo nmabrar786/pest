{
 "cells": [
  {
   "cell_type": "code",
   "execution_count": null,
   "metadata": {
    "id": "MhTF0TkDqIVj"
   },
   "outputs": [],
   "source": [
    "import cv2\n",
    "import pathlib\n",
    "import matplotlib.pyplot as plt\n",
    "import PIL\n",
    "import os\n",
    "import tensorflow as tf"
   ]
  },
  {
   "cell_type": "code",
   "execution_count": null,
   "metadata": {
    "id": "fpSlYgMaoOA9"
   },
   "outputs": [],
   "source": []
  },
  {
   "cell_type": "code",
   "execution_count": null,
   "metadata": {
    "colab": {
     "base_uri": "https://localhost:8080/"
    },
    "id": "YuQKTwacqVQ5",
    "outputId": "b501c133-6f7e-4050-b7a9-054a83e46078"
   },
   "outputs": [
    {
     "name": "stdout",
     "output_type": "stream",
     "text": [
      "Mounted at /content/drive/\n"
     ]
    }
   ],
   "source": [
    "\n",
    "from google.colab import drive\n",
    "drive.mount('/content/drive/')"
   ]
  },
  {
   "cell_type": "markdown",
   "metadata": {
    "id": "eUkRaCWVqqOx"
   },
   "source": [
    "**Load and Preparing Datasets**"
   ]
  },
  {
   "cell_type": "code",
   "execution_count": null,
   "metadata": {
    "id": "RxPkSWqJqhz1"
   },
   "outputs": [],
   "source": [
    "path1='/content/drive/MyDrive/pest/train/aphids'\n",
    "path2 ='/content/drive/MyDrive/pest/train/armyworm'\n",
    "path3 = '/content/drive/MyDrive/pest/train/beetle'\n",
    "path4 = '/content/drive/MyDrive/pest/train/bollworm'\n",
    "path5 = '/content/drive/MyDrive/pest/train/grasshopper'\n",
    "path6 = '/content/drive/MyDrive/pest/train/mites'\n",
    "path7 = '/content/drive/MyDrive/pest/train/mosquito'\n",
    "path8 = '/content/drive/MyDrive/pest/train/sawfly'\n",
    "path9 = '/content/drive/MyDrive/pest/train/stem_borer'\n",
    "\n",
    "data_dir1=pathlib.Path(path1)\n",
    "data_dir2=pathlib.Path(path2)\n",
    "data_dir3=pathlib.Path(path3)\n",
    "data_dir4=pathlib.Path(path4)\n",
    "data_dir5=pathlib.Path(path5)\n",
    "data_dir6=pathlib.Path(path6)\n",
    "data_dir7=pathlib.Path(path7)\n",
    "data_dir8=pathlib.Path(path8)\n",
    "data_dir9=pathlib.Path(path9)\n",
    "\n",
    "\n",
    "\n",
    "\n",
    "dict_pest={\n",
    "    'aphids':list(data_dir1.glob('*')),\n",
    "    'armyworm':list(data_dir2.glob('*')),\n",
    "    'beetle':list(data_dir3.glob('*')),\n",
    "    'bollworm':list(data_dir4.glob('*')),\n",
    "    'grasshopper':list(data_dir5.glob('*')),\n",
    "    'mites':list(data_dir6.glob('*')),\n",
    "    'mosquito':list(data_dir7.glob('*')),\n",
    "    'sawfly':list(data_dir8.glob('*')),\n",
    "    'stem_borer':list(data_dir9.glob('*'))\n",
    "}\n",
    "\n",
    "dict_pest_num={\n",
    "    'aphids':0,\n",
    "    'armyworm':1,\n",
    "    'beetle':2,\n",
    "    'bollworm':3,\n",
    "    'grasshopper':4,\n",
    "    'mites':5,\n",
    "    'mosquito':6,\n",
    "    'sawfly':7,\n",
    "    'stem_borer':8\n",
    "}"
   ]
  },
  {
   "cell_type": "markdown",
   "metadata": {
    "id": "nvToaZ2SxT3r"
   },
   "source": [
    "**###############**"
   ]
  },
  {
   "cell_type": "code",
   "execution_count": null,
   "metadata": {
    "id": "bZ53qXQSvnk2"
   },
   "outputs": [],
   "source": [
    "# list(data_dir1.glob('*'))\n",
    "dict_pest['aphids']"
   ]
  },
  {
   "cell_type": "code",
   "execution_count": null,
   "metadata": {
    "id": "As86P1iCwGdT"
   },
   "outputs": [],
   "source": [
    "PIL.Image.open(str(dict_pest['aphids'][0]))"
   ]
  },
  {
   "cell_type": "code",
   "execution_count": null,
   "metadata": {
    "id": "RswMW3lgwd8N"
   },
   "outputs": [],
   "source": [
    "img=cv2.imread(str(dict_pest['aphids'][0]))\n",
    "img.shape,img"
   ]
  },
  {
   "cell_type": "code",
   "execution_count": null,
   "metadata": {
    "id": "ywmDVX4UwuZm"
   },
   "outputs": [],
   "source": [
    "plt.matshow(img)"
   ]
  },
  {
   "cell_type": "markdown",
   "metadata": {
    "id": "vnuxTj6_xmXA"
   },
   "source": [
    "**###########################**"
   ]
  },
  {
   "cell_type": "code",
   "execution_count": null,
   "metadata": {
    "colab": {
     "background_save": true
    },
    "id": "SoUH5x5FxSI1"
   },
   "outputs": [],
   "source": [
    "x=[]\n",
    "y=[]\n",
    "for key,path in dict_pest.items():\n",
    "  for sbpth in path:\n",
    "    img=cv2.imread(str(sbpth))\n",
    "    img=cv2.resize(img,(180,180))\n",
    "    x.append(img)\n",
    "    y.append(dict_pest_num[key])\n"
   ]
  },
  {
   "cell_type": "code",
   "execution_count": null,
   "metadata": {
    "colab": {
     "background_save": true
    },
    "id": "CZMuiR5SySK9",
    "outputId": "2a575ffc-bf20-4aff-b072-7f248c0fe7bc"
   },
   "outputs": [
    {
     "data": {
      "text/plain": [
       "(2700, 180, 180, 3)"
      ]
     },
     "execution_count": 5,
     "metadata": {},
     "output_type": "execute_result"
    }
   ],
   "source": [
    "import numpy as np\n",
    "x_data=np.array(x)\n",
    "x_data.shape"
   ]
  },
  {
   "cell_type": "code",
   "execution_count": null,
   "metadata": {
    "colab": {
     "background_save": true
    },
    "id": "bFNDEM0wyY9w",
    "outputId": "d022e0e1-271d-4ed8-cafd-0e1dd33056bf"
   },
   "outputs": [
    {
     "data": {
      "text/plain": [
       "(2700,)"
      ]
     },
     "execution_count": 6,
     "metadata": {},
     "output_type": "execute_result"
    }
   ],
   "source": [
    "y_data=np.array(y)\n",
    "y_data.shape"
   ]
  },
  {
   "cell_type": "code",
   "execution_count": null,
   "metadata": {
    "colab": {
     "background_save": true
    },
    "id": "rTRPuF0Z1SOm",
    "outputId": "550ad3cc-3577-4968-df1e-0bca14c29003"
   },
   "outputs": [
    {
     "data": {
      "text/plain": [
       "array([[[127, 202, 170],\n",
       "        [127, 202, 170],\n",
       "        [127, 202, 170],\n",
       "        ...,\n",
       "        [115, 202, 164],\n",
       "        [115, 200, 162],\n",
       "        [115, 200, 162]],\n",
       "\n",
       "       [[127, 202, 170],\n",
       "        [127, 202, 170],\n",
       "        [127, 202, 170],\n",
       "        ...,\n",
       "        [115, 202, 164],\n",
       "        [115, 200, 162],\n",
       "        [115, 200, 162]],\n",
       "\n",
       "       [[127, 202, 170],\n",
       "        [127, 202, 170],\n",
       "        [127, 202, 170],\n",
       "        ...,\n",
       "        [115, 202, 164],\n",
       "        [115, 200, 162],\n",
       "        [115, 200, 162]],\n",
       "\n",
       "       ...,\n",
       "\n",
       "       [[116, 200, 165],\n",
       "        [115, 199, 164],\n",
       "        [115, 199, 164],\n",
       "        ...,\n",
       "        [109, 196, 158],\n",
       "        [109, 196, 158],\n",
       "        [109, 196, 158]],\n",
       "\n",
       "       [[114, 201, 163],\n",
       "        [113, 200, 162],\n",
       "        [113, 200, 162],\n",
       "        ...,\n",
       "        [109, 196, 158],\n",
       "        [109, 196, 158],\n",
       "        [109, 196, 158]],\n",
       "\n",
       "       [[114, 201, 163],\n",
       "        [113, 200, 162],\n",
       "        [113, 200, 162],\n",
       "        ...,\n",
       "        [109, 196, 158],\n",
       "        [109, 196, 158],\n",
       "        [109, 196, 158]]], dtype=uint8)"
      ]
     },
     "execution_count": 7,
     "metadata": {},
     "output_type": "execute_result"
    }
   ],
   "source": [
    "x_data[0]"
   ]
  },
  {
   "cell_type": "code",
   "execution_count": null,
   "metadata": {
    "colab": {
     "background_save": true
    },
    "id": "tccqVXmC1YMf",
    "outputId": "aa384c77-ff82-4864-ff21-bb27aa1a46ce"
   },
   "outputs": [
    {
     "data": {
      "text/plain": [
       "array([0, 0, 0, ..., 8, 8, 8])"
      ]
     },
     "execution_count": 8,
     "metadata": {},
     "output_type": "execute_result"
    }
   ],
   "source": [
    "y_data[0:3700]"
   ]
  },
  {
   "cell_type": "code",
   "execution_count": null,
   "metadata": {
    "colab": {
     "background_save": true
    },
    "id": "QQEWnjzP1dZd"
   },
   "outputs": [],
   "source": [
    "from sklearn.model_selection import train_test_split\n",
    "x_train,x_test,y_train,y_test=train_test_split(x_data,y_data,test_size=0.1,random_state=0)"
   ]
  },
  {
   "cell_type": "code",
   "execution_count": null,
   "metadata": {
    "colab": {
     "background_save": true
    },
    "id": "EApDAKmg1jbh",
    "outputId": "a280afe9-dbf9-41f7-d896-0d69c852ebef"
   },
   "outputs": [
    {
     "data": {
      "text/plain": [
       "array([[[255, 249, 250],\n",
       "        [255, 249, 250],\n",
       "        [255, 249, 250],\n",
       "        ...,\n",
       "        [252, 252, 252],\n",
       "        [252, 252, 252],\n",
       "        [252, 252, 252]],\n",
       "\n",
       "       [[255, 249, 250],\n",
       "        [255, 249, 250],\n",
       "        [255, 249, 250],\n",
       "        ...,\n",
       "        [252, 252, 252],\n",
       "        [252, 252, 252],\n",
       "        [252, 252, 252]],\n",
       "\n",
       "       [[255, 249, 250],\n",
       "        [255, 249, 250],\n",
       "        [255, 249, 250],\n",
       "        ...,\n",
       "        [252, 252, 252],\n",
       "        [252, 252, 252],\n",
       "        [252, 252, 252]],\n",
       "\n",
       "       ...,\n",
       "\n",
       "       [[252, 252, 252],\n",
       "        [252, 252, 252],\n",
       "        [252, 252, 252],\n",
       "        ...,\n",
       "        [ 59, 131,  95],\n",
       "        [ 57, 131,  95],\n",
       "        [ 65, 142, 105]],\n",
       "\n",
       "       [[252, 252, 252],\n",
       "        [252, 252, 252],\n",
       "        [252, 252, 252],\n",
       "        ...,\n",
       "        [ 57, 129,  92],\n",
       "        [ 51, 125,  89],\n",
       "        [ 58, 135,  98]],\n",
       "\n",
       "       [[252, 252, 252],\n",
       "        [252, 252, 252],\n",
       "        [252, 252, 252],\n",
       "        ...,\n",
       "        [ 49, 120,  84],\n",
       "        [ 46, 120,  84],\n",
       "        [ 54, 130,  93]]], dtype=uint8)"
      ]
     },
     "execution_count": 10,
     "metadata": {},
     "output_type": "execute_result"
    }
   ],
   "source": [
    "x_train[0]"
   ]
  },
  {
   "cell_type": "code",
   "execution_count": null,
   "metadata": {
    "colab": {
     "base_uri": "https://localhost:8080/"
    },
    "id": "0ZOXo5OJ1qc1",
    "outputId": "bc33533f-0eb1-4df6-9ae1-7ff8d7d757e8"
   },
   "outputs": [
    {
     "data": {
      "text/plain": [
       "(2430, 180, 180, 3)"
      ]
     },
     "execution_count": 17,
     "metadata": {},
     "output_type": "execute_result"
    }
   ],
   "source": [
    "x_train.shape "
   ]
  },
  {
   "cell_type": "code",
   "execution_count": null,
   "metadata": {
    "colab": {
     "base_uri": "https://localhost:8080/"
    },
    "id": "wf14uOaI1thO",
    "outputId": "6f4ce50d-c304-4208-c2ff-ee9c971f6d30"
   },
   "outputs": [
    {
     "data": {
      "text/plain": [
       "(2430,)"
      ]
     },
     "execution_count": 18,
     "metadata": {},
     "output_type": "execute_result"
    }
   ],
   "source": [
    "y_train.shape"
   ]
  },
  {
   "cell_type": "code",
   "execution_count": null,
   "metadata": {
    "colab": {
     "background_save": true
    },
    "id": "BIkCK-GA1305",
    "outputId": "655c04d2-2ed4-42a4-ffa7-1b0c4acf13dc"
   },
   "outputs": [
    {
     "data": {
      "text/plain": [
       "array([[[[1.13333333, 1.10666667, 1.11111111],\n",
       "         [1.13333333, 1.10666667, 1.11111111],\n",
       "         [1.13333333, 1.10666667, 1.11111111],\n",
       "         ...,\n",
       "         [1.12      , 1.12      , 1.12      ],\n",
       "         [1.12      , 1.12      , 1.12      ],\n",
       "         [1.12      , 1.12      , 1.12      ]],\n",
       "\n",
       "        [[1.13333333, 1.10666667, 1.11111111],\n",
       "         [1.13333333, 1.10666667, 1.11111111],\n",
       "         [1.13333333, 1.10666667, 1.11111111],\n",
       "         ...,\n",
       "         [1.12      , 1.12      , 1.12      ],\n",
       "         [1.12      , 1.12      , 1.12      ],\n",
       "         [1.12      , 1.12      , 1.12      ]],\n",
       "\n",
       "        [[1.13333333, 1.10666667, 1.11111111],\n",
       "         [1.13333333, 1.10666667, 1.11111111],\n",
       "         [1.13333333, 1.10666667, 1.11111111],\n",
       "         ...,\n",
       "         [1.12      , 1.12      , 1.12      ],\n",
       "         [1.12      , 1.12      , 1.12      ],\n",
       "         [1.12      , 1.12      , 1.12      ]],\n",
       "\n",
       "        ...,\n",
       "\n",
       "        [[1.12      , 1.12      , 1.12      ],\n",
       "         [1.12      , 1.12      , 1.12      ],\n",
       "         [1.12      , 1.12      , 1.12      ],\n",
       "         ...,\n",
       "         [0.26222222, 0.58222222, 0.42222222],\n",
       "         [0.25333333, 0.58222222, 0.42222222],\n",
       "         [0.28888889, 0.63111111, 0.46666667]],\n",
       "\n",
       "        [[1.12      , 1.12      , 1.12      ],\n",
       "         [1.12      , 1.12      , 1.12      ],\n",
       "         [1.12      , 1.12      , 1.12      ],\n",
       "         ...,\n",
       "         [0.25333333, 0.57333333, 0.40888889],\n",
       "         [0.22666667, 0.55555556, 0.39555556],\n",
       "         [0.25777778, 0.6       , 0.43555556]],\n",
       "\n",
       "        [[1.12      , 1.12      , 1.12      ],\n",
       "         [1.12      , 1.12      , 1.12      ],\n",
       "         [1.12      , 1.12      , 1.12      ],\n",
       "         ...,\n",
       "         [0.21777778, 0.53333333, 0.37333333],\n",
       "         [0.20444444, 0.53333333, 0.37333333],\n",
       "         [0.24      , 0.57777778, 0.41333333]]],\n",
       "\n",
       "\n",
       "       [[[0.91111111, 0.65777778, 0.61777778],\n",
       "         [0.91111111, 0.65777778, 0.61777778],\n",
       "         [0.91111111, 0.65777778, 0.61777778],\n",
       "         ...,\n",
       "         [0.94222222, 0.66666667, 0.63111111],\n",
       "         [0.93777778, 0.66222222, 0.62666667],\n",
       "         [0.93333333, 0.65777778, 0.62222222]],\n",
       "\n",
       "        [[0.90666667, 0.65333333, 0.61333333],\n",
       "         [0.90666667, 0.65333333, 0.61333333],\n",
       "         [0.90666667, 0.65333333, 0.61333333],\n",
       "         ...,\n",
       "         [0.94222222, 0.66666667, 0.63111111],\n",
       "         [0.93777778, 0.66222222, 0.62666667],\n",
       "         [0.93333333, 0.65777778, 0.62222222]],\n",
       "\n",
       "        [[0.89777778, 0.64444444, 0.60444444],\n",
       "         [0.89777778, 0.64444444, 0.60444444],\n",
       "         [0.89777778, 0.64444444, 0.60444444],\n",
       "         ...,\n",
       "         [0.93777778, 0.66222222, 0.62666667],\n",
       "         [0.93777778, 0.66222222, 0.62666667],\n",
       "         [0.93333333, 0.65777778, 0.62222222]],\n",
       "\n",
       "        ...,\n",
       "\n",
       "        [[1.03111111, 0.72444444, 0.64888889],\n",
       "         [1.03111111, 0.72      , 0.64444444],\n",
       "         [1.05333333, 0.74222222, 0.66666667],\n",
       "         ...,\n",
       "         [0.97777778, 0.71555556, 0.67111111],\n",
       "         [0.97333333, 0.69777778, 0.65333333],\n",
       "         [0.94222222, 0.64888889, 0.60888889]],\n",
       "\n",
       "        [[1.08      , 0.76888889, 0.69333333],\n",
       "         [1.11555556, 0.80444444, 0.72888889],\n",
       "         [1.07555556, 0.76444444, 0.68888889],\n",
       "         ...,\n",
       "         [1.00888889, 0.74222222, 0.69777778],\n",
       "         [1.        , 0.72      , 0.67555556],\n",
       "         [0.95555556, 0.65777778, 0.61777778]],\n",
       "\n",
       "        [[1.10666667, 0.82222222, 0.74666667],\n",
       "         [1.13333333, 0.84444444, 0.76888889],\n",
       "         [1.07555556, 0.76888889, 0.69333333],\n",
       "         ...,\n",
       "         [1.00444444, 0.73777778, 0.69333333],\n",
       "         [1.        , 0.72      , 0.67555556],\n",
       "         [0.99555556, 0.69333333, 0.65333333]]],\n",
       "\n",
       "\n",
       "       [[[0.75111111, 0.60888889, 0.42666667],\n",
       "         [0.72888889, 0.58666667, 0.40444444],\n",
       "         [0.86222222, 0.72      , 0.53777778],\n",
       "         ...,\n",
       "         [0.93333333, 0.73777778, 0.57333333],\n",
       "         [0.93777778, 0.73777778, 0.57333333],\n",
       "         [0.88888889, 0.68888889, 0.52444444]],\n",
       "\n",
       "        [[0.72888889, 0.58222222, 0.40888889],\n",
       "         [0.69333333, 0.54666667, 0.36888889],\n",
       "         [0.76      , 0.61333333, 0.44444444],\n",
       "         ...,\n",
       "         [0.90222222, 0.70666667, 0.54222222],\n",
       "         [0.92888889, 0.72888889, 0.56444444],\n",
       "         [0.89333333, 0.68888889, 0.52888889]],\n",
       "\n",
       "        [[0.66666667, 0.51555556, 0.35555556],\n",
       "         [0.63111111, 0.48888889, 0.32444444],\n",
       "         [0.70666667, 0.56444444, 0.40444444],\n",
       "         ...,\n",
       "         [0.92888889, 0.73333333, 0.56888889],\n",
       "         [0.90666667, 0.70666667, 0.54222222],\n",
       "         [0.90222222, 0.69333333, 0.53333333]],\n",
       "\n",
       "        ...,\n",
       "\n",
       "        [[0.94222222, 0.72888889, 0.57777778],\n",
       "         [0.92888889, 0.70666667, 0.55555556],\n",
       "         [0.92888889, 0.70222222, 0.55111111],\n",
       "         ...,\n",
       "         [0.84      , 0.64      , 0.49333333],\n",
       "         [1.03111111, 0.83111111, 0.68444444],\n",
       "         [1.02222222, 0.82222222, 0.67555556]],\n",
       "\n",
       "        [[0.92444444, 0.71111111, 0.56      ],\n",
       "         [0.88      , 0.65777778, 0.51111111],\n",
       "         [0.89333333, 0.66222222, 0.51555556],\n",
       "         ...,\n",
       "         [0.93777778, 0.73777778, 0.59111111],\n",
       "         [0.93777778, 0.73777778, 0.59111111],\n",
       "         [0.92444444, 0.72444444, 0.57777778]],\n",
       "\n",
       "        [[0.87111111, 0.65777778, 0.51555556],\n",
       "         [0.85333333, 0.62666667, 0.48444444],\n",
       "         [0.86222222, 0.63111111, 0.48888889],\n",
       "         ...,\n",
       "         [0.90666667, 0.69333333, 0.55555556],\n",
       "         [0.97333333, 0.76444444, 0.62222222],\n",
       "         [0.96888889, 0.76      , 0.61777778]]],\n",
       "\n",
       "\n",
       "       ...,\n",
       "\n",
       "\n",
       "       [[[1.10222222, 1.10222222, 1.10222222],\n",
       "         [1.10222222, 1.10222222, 1.10222222],\n",
       "         [1.10222222, 1.10222222, 1.10222222],\n",
       "         ...,\n",
       "         [1.10222222, 1.10222222, 1.10222222],\n",
       "         [1.10222222, 1.10222222, 1.10222222],\n",
       "         [1.10222222, 1.10222222, 1.10222222]],\n",
       "\n",
       "        [[1.10222222, 1.10222222, 1.10222222],\n",
       "         [1.10222222, 1.10222222, 1.10222222],\n",
       "         [1.10222222, 1.10222222, 1.10222222],\n",
       "         ...,\n",
       "         [1.10222222, 1.10222222, 1.10222222],\n",
       "         [1.10222222, 1.10222222, 1.10222222],\n",
       "         [1.10222222, 1.10222222, 1.10222222]],\n",
       "\n",
       "        [[1.10222222, 1.10222222, 1.10222222],\n",
       "         [1.10222222, 1.10222222, 1.10222222],\n",
       "         [1.10222222, 1.10222222, 1.10222222],\n",
       "         ...,\n",
       "         [1.10222222, 1.10222222, 1.10222222],\n",
       "         [1.10222222, 1.10222222, 1.10222222],\n",
       "         [1.10222222, 1.10222222, 1.10222222]],\n",
       "\n",
       "        ...,\n",
       "\n",
       "        [[1.10222222, 1.10222222, 1.10222222],\n",
       "         [1.10222222, 1.10222222, 1.10222222],\n",
       "         [1.10222222, 1.10222222, 1.10222222],\n",
       "         ...,\n",
       "         [1.10222222, 1.10222222, 1.10222222],\n",
       "         [1.10222222, 1.10222222, 1.10222222],\n",
       "         [1.10222222, 1.10222222, 1.10222222]],\n",
       "\n",
       "        [[1.10222222, 1.10222222, 1.10222222],\n",
       "         [1.10222222, 1.10222222, 1.10222222],\n",
       "         [1.10222222, 1.10222222, 1.10222222],\n",
       "         ...,\n",
       "         [1.10222222, 1.10222222, 1.10222222],\n",
       "         [1.10222222, 1.10222222, 1.10222222],\n",
       "         [1.10222222, 1.10222222, 1.10222222]],\n",
       "\n",
       "        [[1.10222222, 1.10222222, 1.10222222],\n",
       "         [1.10222222, 1.10222222, 1.10222222],\n",
       "         [1.10222222, 1.10222222, 1.10222222],\n",
       "         ...,\n",
       "         [1.10222222, 1.10222222, 1.10222222],\n",
       "         [1.10222222, 1.10222222, 1.10222222],\n",
       "         [1.10222222, 1.10222222, 1.10222222]]],\n",
       "\n",
       "\n",
       "       [[[0.14666667, 0.46222222, 0.41777778],\n",
       "         [0.12      , 0.43555556, 0.39111111],\n",
       "         [0.06222222, 0.37777778, 0.33333333],\n",
       "         ...,\n",
       "         [0.28444444, 0.57777778, 0.57333333],\n",
       "         [0.25777778, 0.54666667, 0.52888889],\n",
       "         [0.32444444, 0.59555556, 0.56888889]],\n",
       "\n",
       "        [[0.13777778, 0.45333333, 0.40888889],\n",
       "         [0.13333333, 0.44888889, 0.40444444],\n",
       "         [0.11555556, 0.43111111, 0.38666667],\n",
       "         ...,\n",
       "         [0.43111111, 0.72444444, 0.72      ],\n",
       "         [0.40888889, 0.69777778, 0.68      ],\n",
       "         [0.41777778, 0.69333333, 0.66666667]],\n",
       "\n",
       "        [[0.10666667, 0.42666667, 0.37777778],\n",
       "         [0.13333333, 0.44888889, 0.40444444],\n",
       "         [0.17777778, 0.49333333, 0.44888889],\n",
       "         ...,\n",
       "         [0.61333333, 0.91111111, 0.89777778],\n",
       "         [0.46666667, 0.75111111, 0.73333333],\n",
       "         [0.51111111, 0.78666667, 0.76      ]],\n",
       "\n",
       "        ...,\n",
       "\n",
       "        [[0.30222222, 0.58666667, 0.54666667],\n",
       "         [0.29333333, 0.58222222, 0.54222222],\n",
       "         [0.27555556, 0.56444444, 0.52444444],\n",
       "         ...,\n",
       "         [0.10666667, 0.40888889, 0.36888889],\n",
       "         [0.11111111, 0.39555556, 0.36444444],\n",
       "         [0.10666667, 0.38222222, 0.36      ]],\n",
       "\n",
       "        [[0.36      , 0.66222222, 0.62222222],\n",
       "         [0.28444444, 0.59111111, 0.54666667],\n",
       "         [0.32      , 0.62666667, 0.58222222],\n",
       "         ...,\n",
       "         [0.09777778, 0.39111111, 0.34222222],\n",
       "         [0.09777778, 0.38222222, 0.34222222],\n",
       "         [0.11111111, 0.38222222, 0.35111111]],\n",
       "\n",
       "        [[0.4       , 0.70666667, 0.66222222],\n",
       "         [0.35111111, 0.65777778, 0.61333333],\n",
       "         [0.46222222, 0.76888889, 0.72444444],\n",
       "         ...,\n",
       "         [0.10222222, 0.39111111, 0.34222222],\n",
       "         [0.10222222, 0.38222222, 0.34222222],\n",
       "         [0.11555556, 0.38666667, 0.35555556]]],\n",
       "\n",
       "\n",
       "       [[[0.        , 0.00888889, 0.01333333],\n",
       "         [0.        , 0.00888889, 0.01333333],\n",
       "         [0.        , 0.00888889, 0.01333333],\n",
       "         ...,\n",
       "         [0.00888889, 0.00888889, 0.00888889],\n",
       "         [0.00888889, 0.00888889, 0.00888889],\n",
       "         [0.00888889, 0.00888889, 0.00888889]],\n",
       "\n",
       "        [[0.        , 0.00888889, 0.01333333],\n",
       "         [0.        , 0.00888889, 0.01333333],\n",
       "         [0.        , 0.00888889, 0.01333333],\n",
       "         ...,\n",
       "         [0.00888889, 0.00888889, 0.00888889],\n",
       "         [0.00888889, 0.00888889, 0.00888889],\n",
       "         [0.00888889, 0.00888889, 0.00888889]],\n",
       "\n",
       "        [[0.        , 0.00888889, 0.01333333],\n",
       "         [0.        , 0.00888889, 0.01333333],\n",
       "         [0.        , 0.00888889, 0.01333333],\n",
       "         ...,\n",
       "         [0.00888889, 0.00888889, 0.00888889],\n",
       "         [0.00888889, 0.00888889, 0.00888889],\n",
       "         [0.00888889, 0.00888889, 0.00888889]],\n",
       "\n",
       "        ...,\n",
       "\n",
       "        [[0.01777778, 0.01777778, 0.01777778],\n",
       "         [0.01777778, 0.01777778, 0.01777778],\n",
       "         [0.02222222, 0.02222222, 0.02222222],\n",
       "         ...,\n",
       "         [0.00888889, 0.00888889, 0.00888889],\n",
       "         [0.00888889, 0.00888889, 0.00888889],\n",
       "         [0.00888889, 0.00888889, 0.00888889]],\n",
       "\n",
       "        [[0.01777778, 0.01777778, 0.01777778],\n",
       "         [0.02222222, 0.02222222, 0.02222222],\n",
       "         [0.02222222, 0.02222222, 0.02222222],\n",
       "         ...,\n",
       "         [0.00888889, 0.00888889, 0.00888889],\n",
       "         [0.00888889, 0.00888889, 0.00888889],\n",
       "         [0.00888889, 0.00888889, 0.00888889]],\n",
       "\n",
       "        [[0.02222222, 0.02222222, 0.02222222],\n",
       "         [0.02222222, 0.02222222, 0.02222222],\n",
       "         [0.02666667, 0.02666667, 0.02666667],\n",
       "         ...,\n",
       "         [0.00888889, 0.00888889, 0.00888889],\n",
       "         [0.00888889, 0.00888889, 0.00888889],\n",
       "         [0.00888889, 0.00888889, 0.00888889]]]])"
      ]
     },
     "execution_count": 11,
     "metadata": {},
     "output_type": "execute_result"
    }
   ],
   "source": [
    "x_train_sc=x_train/225\n",
    "x_test_sc= x_test/225\n",
    "x_train_sc"
   ]
  },
  {
   "cell_type": "code",
   "execution_count": null,
   "metadata": {
    "colab": {
     "base_uri": "https://localhost:8080/",
     "height": 472
    },
    "id": "gvHUFzBN1_Rl",
    "outputId": "ad3c2f9c-715c-4492-e398-1a6016b80d59"
   },
   "outputs": [
    {
     "name": "stderr",
     "output_type": "stream",
     "text": [
      "WARNING:matplotlib.image:Clipping input data to the valid range for imshow with RGB data ([0..1] for floats or [0..255] for integers).\n"
     ]
    },
    {
     "data": {
      "text/plain": [
       "<matplotlib.image.AxesImage at 0x7f74a7920a60>"
      ]
     },
     "execution_count": 20,
     "metadata": {},
     "output_type": "execute_result"
    },
    {
     "data": {
      "image/png": "[encoded data removed]",
      "text/plain": [
       "<Figure size 480x480 with 1 Axes>"
      ]
     },
     "metadata": {},
     "output_type": "display_data"
    }
   ],
   "source": [
    "plt.matshow(x_train_sc[2])"
   ]
  },
  {
   "cell_type": "markdown",
   "metadata": {
    "id": "oQUyfq1s2Hpv"
   },
   "source": [
    "**Train Model**"
   ]
  },
  {
   "cell_type": "code",
   "execution_count": null,
   "metadata": {
    "colab": {
     "background_save": true
    },
    "id": "nY2Ep-pF2E_W"
   },
   "outputs": [],
   "source": [
    "from tensorflow import keras"
   ]
  },
  {
   "cell_type": "code",
   "execution_count": null,
   "metadata": {
    "id": "vZiOi7Y92O8O"
   },
   "outputs": [],
   "source": [
    "model1=keras.Sequential([\n",
    "                      #cnn\n",
    "                        keras.layers.Conv2D(filters=32,kernel_size=(3,3),activation='relu',input_shape=(180,180,3)),\n",
    "                        keras.layers.MaxPool2D((2,2)),\n",
    "                      \n",
    "                        keras.layers.Conv2D(filters=32,kernel_size=(3,3),activation='relu'),\n",
    "                        keras.layers.MaxPool2D((2,2)),\n",
    "                      #Dense\n",
    "                        keras.layers.Flatten(),  \n",
    "                        keras.layers.Dense(64,activation='relu'),\n",
    "                        keras.layers.Dense(9,activation='sigmoid')  \n",
    "])\n",
    "model1.compile(optimizer='adam',\n",
    "              loss='sparse_categorical_crossentropy',\n",
    "              metrics=['accuracy'])\n",
    "history = model1.fit(x_train_sc,y_train,epochs=2,validation_split=0.10)"
   ]
  },
  {
   "cell_type": "code",
   "execution_count": null,
   "metadata": {
    "colab": {
     "base_uri": "https://localhost:8080/"
    },
    "id": "ckzgrJoP7-Mm",
    "outputId": "5528d218-d17a-4b1b-d807-a1275435fb0b"
   },
   "outputs": [
    {
     "name": "stdout",
     "output_type": "stream",
     "text": [
      "9/9 [==============================] - 3s 328ms/step - loss: 0.0268 - accuracy: 0.9963\n"
     ]
    },
    {
     "data": {
      "text/plain": [
       "[0.026772744953632355, 0.9962962865829468]"
      ]
     },
     "execution_count": 23,
     "metadata": {},
     "output_type": "execute_result"
    }
   ],
   "source": [
    "model1.evaluate(x_test_sc,y_test)"
   ]
  },
  {
   "cell_type": "code",
   "execution_count": null,
   "metadata": {
    "colab": {
     "base_uri": "https://localhost:8080/"
    },
    "id": "VznM15Xm9t_m",
    "outputId": "ed00ad12-0485-40c7-effb-32559a89db3e"
   },
   "outputs": [
    {
     "name": "stdout",
     "output_type": "stream",
     "text": [
      "1/1 [==============================] - 0s 221ms/step\n"
     ]
    },
    {
     "data": {
      "text/plain": [
       "array([[9.71945465e-01, 9.97259080e-01, 9.99996543e-01, 3.40418518e-01,\n",
       "        9.69299495e-01, 9.84790623e-01, 9.99139607e-01, 1.00000000e+00,\n",
       "        9.74042237e-01],\n",
       "       [3.76941621e-01, 9.76829827e-01, 9.92898524e-01, 9.99480605e-01,\n",
       "        8.40784013e-01, 9.91474807e-01, 9.99999225e-01, 9.97937143e-01,\n",
       "        1.22498773e-01],\n",
       "       [9.99993980e-01, 9.99972582e-01, 9.99995947e-01, 9.99999166e-01,\n",
       "        1.96769118e-01, 1.00000000e+00, 5.62737621e-02, 9.99998093e-01,\n",
       "        9.99979496e-01],\n",
       "       [1.03460580e-01, 9.99877334e-01, 1.00000000e+00, 1.21155925e-01,\n",
       "        9.14235830e-01, 9.99848247e-01, 9.99688625e-01, 9.98180628e-01,\n",
       "        9.89740729e-01],\n",
       "       [5.05959213e-01, 2.42026225e-02, 8.69739532e-01, 9.97262478e-01,\n",
       "        1.00000000e+00, 2.03789268e-02, 6.73508155e-04, 9.15030167e-02,\n",
       "        3.60601756e-04],\n",
       "       [1.93849027e-01, 9.71828878e-01, 1.00000000e+00, 9.77671266e-01,\n",
       "        9.99998629e-01, 9.97786999e-01, 9.81640458e-01, 1.00000000e+00,\n",
       "        9.99739528e-01],\n",
       "       [3.75168510e-02, 9.98445928e-01, 9.99999881e-01, 9.34485853e-01,\n",
       "        9.79948521e-01, 9.93173063e-01, 9.99291003e-01, 9.82299626e-01,\n",
       "        9.97316778e-01],\n",
       "       [7.02426612e-01, 1.49749279e-01, 9.72287714e-01, 7.84176290e-01,\n",
       "        9.99998152e-01, 1.53591394e-01, 2.89240852e-04, 9.99392509e-01,\n",
       "        6.10020339e-01],\n",
       "       [1.12116352e-01, 7.32052207e-01, 9.99986768e-01, 8.52529526e-01,\n",
       "        1.00000000e+00, 8.50258619e-02, 6.08181551e-07, 9.99999881e-01,\n",
       "        3.41526181e-01],\n",
       "       [9.99977767e-01, 3.83967966e-01, 2.33680718e-02, 9.49950516e-01,\n",
       "        8.88641298e-01, 9.73088920e-01, 7.98463523e-01, 4.44403261e-01,\n",
       "        9.63408113e-01]], dtype=float32)"
      ]
     },
     "execution_count": 24,
     "metadata": {},
     "output_type": "execute_result"
    }
   ],
   "source": [
    "predict=model1.predict(x_test_sc[0:10])\n",
    "predict"
   ]
  },
  {
   "cell_type": "code",
   "execution_count": null,
   "metadata": {
    "id": "ZUmuASp29yXp"
   },
   "outputs": [],
   "source": [
    "# for i in predict:\n",
    "#   print(np.argmax(i))"
   ]
  },
  {
   "cell_type": "code",
   "execution_count": null,
   "metadata": {
    "id": "xJgSj7qJ93tR"
   },
   "outputs": [],
   "source": [
    "# y_test[0:10]\n"
   ]
  },
  {
   "cell_type": "code",
   "execution_count": null,
   "metadata": {
    "id": "sW__hBIbigkI"
   },
   "outputs": [],
   "source": [
    "from matplotlib import pyplot as plt"
   ]
  },
  {
   "cell_type": "code",
   "execution_count": null,
   "metadata": {
    "colab": {
     "base_uri": "https://localhost:8080/"
    },
    "id": "pYtEa6x4l12X",
    "outputId": "69b6d22c-f2c0-4b88-a876-28d483ac5447"
   },
   "outputs": [
    {
     "name": "stdout",
     "output_type": "stream",
     "text": [
      "dict_keys(['loss', 'accuracy', 'val_loss', 'val_accuracy'])\n"
     ]
    }
   ],
   "source": [
    "history_dict = history.history\n",
    "print(history_dict.keys())"
   ]
  },
  {
   "cell_type": "code",
   "execution_count": null,
   "metadata": {
    "colab": {
     "base_uri": "https://localhost:8080/"
    },
    "id": "RiQMRvibihsd",
    "outputId": "de23792a-e371-422f-d8ae-293c7c64a46a"
   },
   "outputs": [
    {
     "data": {
      "image/png": "[encoded data removed]",
      "text/plain": [
       "<Figure size 640x480 with 1 Axes>"
      ]
     },
     "metadata": {},
     "output_type": "display_data"
    }
   ],
   "source": [
    "plt.plot(history.history['accuracy'])\n",
    "plt.plot(history.history['val_accuracy'])\n",
    "plt.title('model accuracy')\n",
    "plt.ylabel('accuracy')\n",
    "plt.xlabel('epoch')\n",
    "plt.legend(['train', 'val'], loc='upper left')\n",
    "plt.show()"
   ]
  },
  {
   "cell_type": "code",
   "execution_count": null,
   "metadata": {
    "colab": {
     "base_uri": "https://localhost:8080/"
    },
    "id": "0QEsEEY_wGOn",
    "outputId": "1c2748b2-7c13-41dd-9963-ac909ffea861"
   },
   "outputs": [
    {
     "data": {
      "image/png": "[encoded data removed]",
      "text/plain": [
       "<Figure size 640x480 with 1 Axes>"
      ]
     },
     "metadata": {},
     "output_type": "display_data"
    }
   ],
   "source": [
    "plt.plot(history.history['loss'])\n",
    "plt.plot(history.history['val_loss'])\n",
    "plt.title('model loss')\n",
    "plt.ylabel('loss')\n",
    "plt.xlabel('epoch')\n",
    "plt.legend(['train', 'val'], loc='upper left')\n",
    "plt.show()"
   ]
  },
  {
   "cell_type": "markdown",
   "metadata": {
    "id": "cBrplPGXwqSl"
   },
   "source": [
    "# Calculating Accuracy\n"
   ]
  },
  {
   "cell_type": "code",
   "execution_count": null,
   "metadata": {
    "id": "cGQvk_5U-GIT"
   },
   "outputs": [],
   "source": [
    "path1='/content/drive/MyDrive/pest/test/aphids'\n",
    "path2 ='/content/drive/MyDrive/pest/test/armyworm'\n",
    "path3 = '/content/drive/MyDrive/pest/test/beetle'\n",
    "path4 = '/content/drive/MyDrive/pest/test/bollworm'\n",
    "path5 = '/content/drive/MyDrive/pest/test/grasshopper'\n",
    "path6 = '/content/drive/MyDrive/pest/test/mites'\n",
    "path7 = '/content/drive/MyDrive/pest/test/mosquito'\n",
    "path8 = '/content/drive/MyDrive/pest/test/sawfly'\n",
    "path9 = '/content/drive/MyDrive/pest/test/stem_borer'\n",
    "\n",
    "data_dir1=pathlib.Path(path1)\n",
    "data_dir2=pathlib.Path(path2)\n",
    "data_dir3=pathlib.Path(path3)\n",
    "data_dir4=pathlib.Path(path4)\n",
    "data_dir5=pathlib.Path(path5)\n",
    "data_dir6=pathlib.Path(path6)\n",
    "data_dir7=pathlib.Path(path7)\n",
    "data_dir8=pathlib.Path(path8)\n",
    "data_dir9=pathlib.Path(path9)\n",
    "\n",
    "\n",
    "\n",
    "\n",
    "dict_pest={\n",
    "    'aphids':list(data_dir1.glob('*')),\n",
    "    'armyworm':list(data_dir2.glob('*')),\n",
    "    'beetle':list(data_dir3.glob('*')),\n",
    "    'bollworm':list(data_dir4.glob('*')),\n",
    "    'grasshopper':list(data_dir5.glob('*')),\n",
    "    'mites':list(data_dir6.glob('*')),\n",
    "    'mosquito':list(data_dir7.glob('*')),\n",
    "    'sawfly':list(data_dir8.glob('*')),\n",
    "    'stem_borer':list(data_dir9.glob('*'))\n",
    "}\n",
    "\n",
    "dict_pest_num={\n",
    "    'aphids':0,\n",
    "    'armyworm':1,\n",
    "    'beetle':2,\n",
    "    'bollworm':3,\n",
    "    'grasshopper':4,\n",
    "    'mites':5,\n",
    "    'mosquito':6,\n",
    "    'sawfly':7,\n",
    "    'stem_borer':8\n",
    "}"
   ]
  },
  {
   "cell_type": "code",
   "execution_count": null,
   "metadata": {
    "id": "KCXFdiml-xCR"
   },
   "outputs": [],
   "source": [
    "x=[]\n",
    "y=[]\n",
    "for key,path in dict_pest.items():\n",
    "  for sbpth in path:\n",
    "    img=cv2.imread(str(sbpth))\n",
    "    img=cv2.resize(img,(180,180))\n",
    "    x.append(img)\n",
    "    y.append(dict_pest_num[key])"
   ]
  },
  {
   "cell_type": "code",
   "execution_count": null,
   "metadata": {
    "colab": {
     "base_uri": "https://localhost:8080/"
    },
    "id": "jBIBK7KU_FSh",
    "outputId": "f016132e-7ad7-47ad-bf3e-ff643a1a5854"
   },
   "outputs": [
    {
     "data": {
      "text/plain": [
       "(450, 180, 180, 3)"
      ]
     },
     "execution_count": 50,
     "metadata": {},
     "output_type": "execute_result"
    }
   ],
   "source": [
    "import numpy as np\n",
    "x_test=np.array(x)\n",
    "x_test.shape"
   ]
  },
  {
   "cell_type": "code",
   "execution_count": null,
   "metadata": {
    "colab": {
     "base_uri": "https://localhost:8080/"
    },
    "id": "IIaFtTJg_MT2",
    "outputId": "10f37857-82bb-4baa-8a38-82e4f78d10d5"
   },
   "outputs": [
    {
     "data": {
      "text/plain": [
       "(450,)"
      ]
     },
     "execution_count": 51,
     "metadata": {},
     "output_type": "execute_result"
    }
   ],
   "source": [
    "y_test=np.array(y)\n",
    "y_test.shape"
   ]
  },
  {
   "cell_type": "code",
   "execution_count": null,
   "metadata": {
    "id": "JZNmVOR-_WCy"
   },
   "outputs": [],
   "source": [
    "x_test_sc=x_test/225"
   ]
  },
  {
   "cell_type": "code",
   "execution_count": null,
   "metadata": {
    "colab": {
     "base_uri": "https://localhost:8080/"
    },
    "id": "kQwLPS7c_dK0",
    "outputId": "954742f9-a655-4463-df4f-7d3597456574"
   },
   "outputs": [
    {
     "name": "stdout",
     "output_type": "stream",
     "text": [
      "15/15 [==============================] - 6s 406ms/step - loss: 0.3066 - accuracy: 0.9511\n"
     ]
    },
    {
     "data": {
      "text/plain": [
       "[0.306566059589386, 0.9511111378669739]"
      ]
     },
     "execution_count": 53,
     "metadata": {},
     "output_type": "execute_result"
    }
   ],
   "source": [
    "cnn.evaluate(x_test_sc,y_test)"
   ]
  },
  {
   "cell_type": "markdown",
   "metadata": {
    "id": "2qneZX7NwABO"
   },
   "source": [
    "<!-- Saving the model -->"
   ]
  },
  {
   "cell_type": "markdown",
   "metadata": {
    "id": "LV2ew8Alw2BR"
   },
   "source": [
    "Model **Saveing**"
   ]
  },
  {
   "cell_type": "code",
   "execution_count": null,
   "metadata": {
    "id": "8O2rLZ2Kv_KU"
   },
   "outputs": [],
   "source": [
    "tf.keras.models.save_model(cnn,'my_model2.hdf5')"
   ]
  }
 ],
 "metadata": {
  "colab": {
   "provenance": []
  },
  "kernelspec": {
   "display_name": "Python 3",
   "language": "python",
   "name": "python3"
  },
  "language_info": {
   "codemirror_mode": {
    "name": "ipython",
    "version": 3
   },
   "file_extension": ".py",
   "mimetype": "text/x-python",
   "name": "python",
   "nbconvert_exporter": "python",
   "pygments_lexer": "ipython3",
   "version": "3.8.8"
  }
 },
 "nbformat": 4,
 "nbformat_minor": 1
}
